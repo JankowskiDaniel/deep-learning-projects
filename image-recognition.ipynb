{
  "cells": [
    {
      "cell_type": "code",
      "execution_count": null,
      "metadata": {
        "id": "W1dSjbUDDU1b"
      },
      "outputs": [],
      "source": [
        "import tensorflow as tf\n",
        "from tensorflow import keras\n",
        "import numpy as np\n",
        "import matplotlib.pyplot as plt"
      ]
    },
    {
      "cell_type": "code",
      "execution_count": null,
      "metadata": {
        "id": "QfFEYp5SDU1e"
      },
      "outputs": [],
      "source": [
        "from tensorflow.keras import layers"
      ]
    },
    {
      "cell_type": "code",
      "source": [
        ""
      ],
      "metadata": {
        "id": "zJTSJXYfwRnC"
      },
      "execution_count": null,
      "outputs": []
    },
    {
      "cell_type": "code",
      "execution_count": null,
      "metadata": {
        "id": "qs6HD8nfDU1f"
      },
      "outputs": [],
      "source": [
        "def unpickle(file):\n",
        "    import pickle\n",
        "    with open(file, 'rb') as fo:\n",
        "        dict = pickle.load(fo, encoding='bytes')\n",
        "    return dict"
      ]
    },
    {
      "cell_type": "code",
      "execution_count": null,
      "metadata": {
        "id": "shlqcv89DU1f"
      },
      "outputs": [],
      "source": [
        "labels = unpickle(\"cifar-10-batches-py/batches.meta\")"
      ]
    },
    {
      "cell_type": "code",
      "execution_count": null,
      "metadata": {
        "id": "2qROrDKwDU1g"
      },
      "outputs": [],
      "source": [
        "labels = labels[b'label_names']"
      ]
    },
    {
      "cell_type": "code",
      "execution_count": null,
      "metadata": {
        "id": "VTW-qk0aDU1g"
      },
      "outputs": [],
      "source": [
        "data = unpickle(\"cifar-10-batches-py/data_batch_1\")"
      ]
    },
    {
      "cell_type": "code",
      "execution_count": null,
      "metadata": {
        "id": "d00_qbvxDU1g"
      },
      "outputs": [],
      "source": [
        "images = data[b'data']"
      ]
    },
    {
      "cell_type": "code",
      "execution_count": null,
      "metadata": {
        "id": "JCFi6y1eDU1h"
      },
      "outputs": [],
      "source": [
        "train_labels = data[b'labels']"
      ]
    },
    {
      "cell_type": "code",
      "execution_count": null,
      "metadata": {
        "id": "7V4_3TJaDU1i"
      },
      "outputs": [],
      "source": [
        "imgred = np.reshape(images[5][:1024], (32,32))\n",
        "imgblue = np.reshape(images[5][1024:2048], (32,32))\n",
        "imggreen = np.reshape(images[5][2048:3072], (32,32))"
      ]
    },
    {
      "cell_type": "code",
      "execution_count": null,
      "metadata": {
        "id": "4dn4rlL_DU1i"
      },
      "outputs": [],
      "source": [
        "sample_image = np.dstack((imgred,imgblue, imggreen))"
      ]
    },
    {
      "cell_type": "code",
      "execution_count": null,
      "metadata": {
        "id": "SEhEzw6uDU1j",
        "outputId": "70a859d1-c0ef-475d-aaf1-995429979462"
      },
      "outputs": [
        {
          "data": {
            "image/png": "[encoded data removed]",
            "text/plain": [
              "<Figure size 432x288 with 1 Axes>"
            ]
          },
          "metadata": {
            "needs_background": "light"
          },
          "output_type": "display_data"
        }
      ],
      "source": [
        "plt.figure()\n",
        "plt.imshow(sample_image)\n",
        "plt.grid(False)\n",
        "plt.show()\n"
      ]
    },
    {
      "cell_type": "code",
      "execution_count": null,
      "metadata": {
        "id": "XemNv0DWDU1k",
        "outputId": "890846d7-fc7e-46f6-95ea-ede5bfae4438"
      },
      "outputs": [
        {
          "data": {
            "text/plain": [
              "b'automobile'"
            ]
          },
          "execution_count": 211,
          "metadata": {},
          "output_type": "execute_result"
        }
      ],
      "source": [
        "labels[train_labels[5]]"
      ]
    },
    {
      "cell_type": "code",
      "execution_count": null,
      "metadata": {
        "id": "weTAQeFxDU1k"
      },
      "outputs": [],
      "source": [
        "train_images = []\n",
        "for i in range(10000):\n",
        "    imgred = np.reshape(images[i][:1024], (32,32))\n",
        "    imgblue = np.reshape(images[i][1024:2048], (32,32))\n",
        "    imggreen = np.reshape(images[i][2048:3072], (32,32))\n",
        "    a = np.dstack((imgred,imgblue, imggreen))\n",
        "    train_images.append(a)"
      ]
    },
    {
      "cell_type": "code",
      "execution_count": null,
      "metadata": {
        "id": "Y8hr_dgiDU1k"
      },
      "outputs": [],
      "source": [
        "train_images = np.array(train_images) #this np array holds all images in proper form"
      ]
    },
    {
      "cell_type": "code",
      "execution_count": null,
      "metadata": {
        "id": "DCunRoTWDU1l"
      },
      "outputs": [],
      "source": [
        "train_images = train_images / 255.0"
      ]
    },
    {
      "cell_type": "code",
      "execution_count": null,
      "metadata": {
        "id": "D2J_HrCUDU1l",
        "outputId": "46d92420-70c9-447a-eb7b-67e2afc429f6"
      },
      "outputs": [
        {
          "data": {
            "text/plain": [
              "array([0.23137255, 0.24313725, 0.24705882])"
            ]
          },
          "execution_count": 223,
          "metadata": {},
          "output_type": "execute_result"
        }
      ],
      "source": [
        ""
      ]
    },
    {
      "cell_type": "code",
      "execution_count": null,
      "metadata": {
        "id": "wdiJ5DyADU1l"
      },
      "outputs": [],
      "source": [
        "model = keras.Sequential([\n",
        "    keras.layers.Flatten(input_shape=(32,32,3)),\n",
        "    keras.layers.Dense(128, activation=\"relu\"),\n",
        "    keras.layers.Dense(256, activation=\"relu\"),\n",
        "    keras.layers.Dense(512, activation=\"relu\"),\n",
        "    keras.layers.Dense(728, activation=\"relu\"),\n",
        "    keras.layers.Dense(1024, activation=\"sigmoid\")\n",
        "])"
      ]
    },
    {
      "cell_type": "code",
      "execution_count": null,
      "metadata": {
        "id": "zTPzJTtuDU1m"
      },
      "outputs": [],
      "source": [
        "model.compile(optimizer=\"adam\",\n",
        "             loss='mse',\n",
        "             metrics=['accuracy'])"
      ]
    },
    {
      "cell_type": "code",
      "execution_count": null,
      "metadata": {
        "id": "_EnVUckADU1m"
      },
      "outputs": [],
      "source": [
        "train_labels = np.array(train_labels)"
      ]
    },
    {
      "cell_type": "code",
      "execution_count": null,
      "metadata": {
        "id": "SO9bKSyFDU1m",
        "outputId": "5c149ff5-9cb2-4c70-f091-5598e2aa8798"
      },
      "outputs": [
        {
          "name": "stdout",
          "output_type": "stream",
          "text": [
            "Epoch 1/10\n",
            "313/313 [==============================] - 3s 10ms/step - loss: 20.5198 - accuracy: 0.0991\n",
            "Epoch 2/10\n",
            "313/313 [==============================] - 3s 10ms/step - loss: 20.4879 - accuracy: 0.1005\n",
            "Epoch 3/10\n",
            "313/313 [==============================] - 3s 10ms/step - loss: 20.4879 - accuracy: 0.1005\n",
            "Epoch 4/10\n",
            "313/313 [==============================] - 3s 10ms/step - loss: 20.4879 - accuracy: 0.1005\n",
            "Epoch 5/10\n",
            "313/313 [==============================] - 3s 9ms/step - loss: 20.4879 - accuracy: 0.1005\n",
            "Epoch 6/10\n",
            "313/313 [==============================] - 3s 10ms/step - loss: 20.4879 - accuracy: 0.1005\n",
            "Epoch 7/10\n",
            "313/313 [==============================] - 3s 10ms/step - loss: 20.4879 - accuracy: 0.1005\n",
            "Epoch 8/10\n",
            "313/313 [==============================] - 3s 10ms/step - loss: 20.4879 - accuracy: 0.1005\n",
            "Epoch 9/10\n",
            "313/313 [==============================] - 3s 10ms/step - loss: 20.4879 - accuracy: 0.1005\n",
            "Epoch 10/10\n",
            "313/313 [==============================] - 3s 10ms/step - loss: 20.4879 - accuracy: 0.1005\n"
          ]
        },
        {
          "data": {
            "text/plain": [
              "<keras.callbacks.History at 0x1c991cbf760>"
            ]
          },
          "execution_count": 241,
          "metadata": {},
          "output_type": "execute_result"
        }
      ],
      "source": [
        "model.fit(train_images, train_labels, epochs=10)"
      ]
    },
    {
      "cell_type": "code",
      "execution_count": null,
      "metadata": {
        "id": "KMFyIgUKDU1n"
      },
      "outputs": [],
      "source": [
        "import ssl"
      ]
    },
    {
      "cell_type": "code",
      "execution_count": null,
      "metadata": {
        "id": "lCifn2H2DU1n"
      },
      "outputs": [],
      "source": [
        "ssl._create_default_https_context = ssl._create_unverified_context"
      ]
    },
    {
      "cell_type": "code",
      "execution_count": null,
      "metadata": {
        "colab": {
          "base_uri": "https://localhost:8080/"
        },
        "id": "gBemiTZIDU1n",
        "outputId": "2d190fdd-6273-40c7-ed7b-315ec0c360be"
      },
      "outputs": [
        {
          "output_type": "stream",
          "name": "stdout",
          "text": [
            "Downloading data from https://www.cs.toronto.edu/~kriz/cifar-10-python.tar.gz\n",
            "170500096/170498071 [==============================] - 3s 0us/step\n",
            "170508288/170498071 [==============================] - 3s 0us/step\n"
          ]
        }
      ],
      "source": [
        "(x_train, y_train), (x_test, y_test) = keras.datasets.cifar10.load_data()"
      ]
    },
    {
      "cell_type": "code",
      "execution_count": null,
      "metadata": {
        "id": "rE_4Iqe1DU1o"
      },
      "outputs": [],
      "source": [
        "from keras import Sequential\n",
        "from keras.layers import Dense, Conv2D, MaxPool2D, Flatten, Dropout\n",
        "from keras.utils import np_utils"
      ]
    },
    {
      "cell_type": "code",
      "execution_count": null,
      "metadata": {
        "id": "FzUMm5xUDU1o"
      },
      "outputs": [],
      "source": [
        "model = Sequential()\n",
        "\n",
        "# convolutional layer\n",
        "model.add(Conv2D(50, kernel_size=(3,3), strides=(1,1), padding='same', activation='relu', input_shape=(32, 32, 3)))\n",
        "\n",
        "# convolutional layer\n",
        "model.add(Conv2D(75, kernel_size=(3,3), strides=(1,1), padding='same', activation='relu'))\n",
        "model.add(MaxPool2D(pool_size=(2,2)))\n",
        "model.add(Dropout(0.25))\n",
        "\n",
        "model.add(Conv2D(125, kernel_size=(3,3), strides=(1,1), padding='same', activation='relu'))\n",
        "model.add(MaxPool2D(pool_size=(2,2)))\n",
        "model.add(Dropout(0.25))\n",
        "\n",
        "# flatten output of conv\n",
        "model.add(Flatten())\n",
        "\n",
        "# hidden layer\n",
        "model.add(Dense(500, activation='relu'))\n",
        "model.add(Dropout(0.4))\n",
        "model.add(Dense(250, activation='relu'))\n",
        "model.add(Dropout(0.3))\n",
        "# output layer\n",
        "model.add(Dense(10, activation='softmax'))"
      ]
    },
    {
      "cell_type": "code",
      "execution_count": null,
      "metadata": {
        "id": "wXMueFXtDU1p"
      },
      "outputs": [],
      "source": [
        "model.compile(optimizer=\"adam\",\n",
        "             loss='categorical_crossentropy',\n",
        "             metrics=['accuracy'])"
      ]
    },
    {
      "cell_type": "code",
      "execution_count": null,
      "metadata": {
        "id": "QjKZ6SIvDU1p"
      },
      "outputs": [],
      "source": [
        "x_train = x_train.reshape(x_train.shape[0], 32, 32, 3)\n",
        "x_train = x_train.astype('float32')"
      ]
    },
    {
      "cell_type": "code",
      "execution_count": null,
      "metadata": {
        "id": "y7PywfEVDU1p"
      },
      "outputs": [],
      "source": [
        "x_train = x_train / 255.0"
      ]
    },
    {
      "cell_type": "code",
      "execution_count": null,
      "metadata": {
        "id": "s_TiA_TIDU1p"
      },
      "outputs": [],
      "source": [
        "y_train = np_utils.to_categorical(y_train, 10)"
      ]
    },
    {
      "cell_type": "code",
      "execution_count": null,
      "metadata": {
        "colab": {
          "base_uri": "https://localhost:8080/"
        },
        "id": "iSbRWp-BDU1p",
        "outputId": "84c2a779-9d0b-4ed7-a265-d5ce7f75bcfc"
      },
      "outputs": [
        {
          "output_type": "stream",
          "name": "stdout",
          "text": [
            "Epoch 1/10\n",
            "391/391 [==============================] - 523s 1s/step - loss: 1.5776 - accuracy: 0.4213\n",
            "Epoch 2/10\n",
            "391/391 [==============================] - 516s 1s/step - loss: 1.1000 - accuracy: 0.6102\n",
            "Epoch 3/10\n",
            "391/391 [==============================] - 514s 1s/step - loss: 0.9233 - accuracy: 0.6785\n",
            "Epoch 4/10\n",
            "391/391 [==============================] - 513s 1s/step - loss: 0.8186 - accuracy: 0.7133\n",
            "Epoch 5/10\n",
            "391/391 [==============================] - 512s 1s/step - loss: 0.7302 - accuracy: 0.7473\n",
            "Epoch 6/10\n",
            "391/391 [==============================] - 509s 1s/step - loss: 0.6672 - accuracy: 0.7664\n",
            "Epoch 7/10\n",
            "391/391 [==============================] - 510s 1s/step - loss: 0.6129 - accuracy: 0.7845\n",
            "Epoch 8/10\n",
            "391/391 [==============================] - 494s 1s/step - loss: 0.5589 - accuracy: 0.8050\n",
            "Epoch 9/10\n",
            "391/391 [==============================] - 503s 1s/step - loss: 0.5124 - accuracy: 0.8184\n",
            "Epoch 10/10\n",
            "391/391 [==============================] - 522s 1s/step - loss: 0.4814 - accuracy: 0.8292\n"
          ]
        },
        {
          "output_type": "execute_result",
          "data": {
            "text/plain": [
              "<keras.callbacks.History at 0x7f8a03135710>"
            ]
          },
          "metadata": {},
          "execution_count": 9
        }
      ],
      "source": [
        "model.fit(x_train, y_train, batch_size=128, epochs=10)"
      ]
    },
    {
      "cell_type": "code",
      "source": [
        ""
      ],
      "metadata": {
        "id": "2k7IVb0yXJqX"
      },
      "execution_count": null,
      "outputs": []
    }
  ],
  "metadata": {
    "kernelspec": {
      "display_name": "Python 3",
      "language": "python",
      "name": "python3"
    },
    "language_info": {
      "codemirror_mode": {
        "name": "ipython",
        "version": 3
      },
      "file_extension": ".py",
      "mimetype": "text/x-python",
      "name": "python",
      "nbconvert_exporter": "python",
      "pygments_lexer": "ipython3",
      "version": "3.8.6"
    },
    "colab": {
      "name": "Kopia notatnika test.ipynb",
      "provenance": []
    }
  },
  "nbformat": 4,
  "nbformat_minor": 0
}